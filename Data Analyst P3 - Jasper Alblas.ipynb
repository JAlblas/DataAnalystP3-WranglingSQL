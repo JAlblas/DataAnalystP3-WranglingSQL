{
 "cells": [
  {
   "cell_type": "markdown",
   "metadata": {},
   "source": [
    "## Data Analyst P3 - Jasper Alblas\n",
    "\n",
    "## Introduction\n",
    "\n",
    "The aim of this project is to investigate an area from OpenStreetMaps, by auditing its XML data. If any problems arise these should be fixed while converting the dataset in seperate csv files, before finally inserting the data into a SQL database.\n",
    "\n",
    "\n",
    "## Table of Contents\n",
    "\n",
    "#### 1. Fetching the data from OpenStreetMap\n",
    "#### 2. Auditing the data in Python\n",
    "#### 3. Fixing the data & converting to csv\n",
    "#### 4. Inserting in SQL Database\n",
    "#### 5. Run queries"
   ]
  },
  {
   "cell_type": "markdown",
   "metadata": {},
   "source": [
    "## 1. Fetching the data from OpenStreetMap\n",
    "\n",
    "For this study I have selected the area in the Netherlands which I grew up in. The following map shows the study area in the southwest of the country:\n",
    "\n",
    "<img src=\"area.png\">"
   ]
  },
  {
   "cell_type": "markdown",
   "metadata": {},
   "source": [
    "This dataset is downloaded from https://mapzen.com/data/metro-extracts/.\n",
    "Since this is a custom extract I cannot provide a direct link to the dataset, but I provided a screenshot called \"dataset_size\" which shows the compressed file size is 20mb. The uncompressed XML file of this area is 380 MBs large, which is fairly large.\n",
    "\n",
    "For this reason I will take a smaller sample while auditing the data to reduce processing time. The following code is used, from the Udacity SQL For Data Analyst Project Details. "
   ]
  },
  {
   "cell_type": "code",
   "execution_count": 1,
   "metadata": {
    "collapsed": false
   },
   "outputs": [],
   "source": [
    "#!/usr/bin/env python\n",
    "# -*- coding: utf-8 -*-\n",
    "try:\n",
    "    import xml.etree.cElementTree as ET\n",
    "except ImportError:\n",
    "    import xml.etree.ElementTree as ET\n",
    "\n",
    "OSM_FILE = \"middendelfland.osm\"\n",
    "SAMPLE_FILE = \"sample.osm\"\n",
    "\n",
    "k = 50 # Parameter: take every k-th top level element\n",
    "chosenFile = \"middendelfland.osm\"  # Variable to change when running the final code on the whole dataset\n",
    "\n",
    "def get_element(osm_file, tags=('node', 'way', 'relation')):\n",
    "    \"\"\"Yield element if it is the right type of tag\n",
    "\n",
    "    Reference:\n",
    "    http://stackoverflow.com/questions/3095434/inserting-newlines-in-xml-file-generated-via-xml-etree-elementtree-in-python\n",
    "    \"\"\"\n",
    "    context = iter(ET.iterparse(osm_file, events=('start', 'end')))\n",
    "    _, root = next(context)\n",
    "    for event, elem in context:\n",
    "        if event == 'end' and elem.tag in tags:\n",
    "            yield elem\n",
    "            root.clear()\n",
    "\n",
    "\n",
    "with open(SAMPLE_FILE, 'wb') as output:\n",
    "    output.write('<?xml version=\"1.0\" encoding=\"UTF-8\"?>\\n')\n",
    "    output.write('<osm>\\n  ')\n",
    "\n",
    "    # Write every kth top level element\n",
    "    for i, element in enumerate(get_element(OSM_FILE)):\n",
    "        if i % k == 0:\n",
    "            output.write(ET.tostring(element, encoding='utf-8'))\n",
    "\n",
    "    output.write('</osm>')"
   ]
  },
  {
   "cell_type": "markdown",
   "metadata": {},
   "source": [
    "This script uses a value of k to set the sample proportion, with higher values meaning that only every Kth value gets selected in the sample. For example, a k value of 10 would lead to a sample with only approximately 10% of all elements. Throughout this project I have gradually decreased k value, to increase the sample size, before running the final code on the whole XML dataset.\n",
    "\n",
    "## Auditing the data in Python\n",
    "\n",
    "Now it's time to start auditing the data in Python. To do this I will create functions to loop through and investigate the dataset. If problems are found, further functions are created to deal with cleaning the data. These will be used while converting the data to csv. \n",
    "\n",
    "Let's start by having a quick look at the total number of different tags in the sample."
   ]
  },
  {
   "cell_type": "code",
   "execution_count": 2,
   "metadata": {
    "collapsed": false
   },
   "outputs": [],
   "source": [
    "from collections import defaultdict\n",
    "    \n",
    "def count_elements(filename):\n",
    "    \"\"\"Counts all elements in XML dataset\"\"\"\n",
    "    count = defaultdict(set)\n",
    "    \n",
    "    # Since the dataset is large, we will use iterparse instead of using the parse method \n",
    "    # (which gets the whole tree at once)\n",
    "    \n",
    "    for event, elem in ET.iterparse(filename, events=(\"start\",\"end\")):\n",
    "        if event == \"start\":\n",
    "            #print elem\n",
    "            tag = elem.tag\n",
    "            #print elem.tag, elem.attrib\n",
    "        \n",
    "            if tag in count:\n",
    "                count[tag] += 1\n",
    "            else:\n",
    "                count[tag] = 1\n",
    "            elem.clear()\n",
    "    return count"
   ]
  },
  {
   "cell_type": "code",
   "execution_count": 3,
   "metadata": {
    "collapsed": false
   },
   "outputs": [
    {
     "data": {
      "text/plain": [
       "defaultdict(set,\n",
       "            {'bounds': 1,\n",
       "             'member': 18097,\n",
       "             'nd': 1779717,\n",
       "             'node': 1415637,\n",
       "             'osm': 1,\n",
       "             'relation': 1725,\n",
       "             'tag': 2262298,\n",
       "             'way': 221651})"
      ]
     },
     "execution_count": 3,
     "metadata": {},
     "output_type": "execute_result"
    }
   ],
   "source": [
    "count_elements(chosenFile)"
   ]
  },
  {
   "cell_type": "markdown",
   "metadata": {
    "collapsed": true
   },
   "source": [
    "As we can see, the most common XML element is \"tag\". This is no surpise as this element is used to describe \"node\", \"way\" and \"relation\" elements. All other elements are typical for OpenStreetMap datasets (https://wiki.openstreetmap.org/wiki/Elements), so this does not indicate any problems. In this study I will focus on the \"node\" and \"way\" elements, including their underlying elements."
   ]
  },
  {
   "cell_type": "markdown",
   "metadata": {},
   "source": [
    "## The node element"
   ]
  },
  {
   "cell_type": "markdown",
   "metadata": {},
   "source": [
    "Now that we have taken a look at the number of elements, let's have a look at the other type of element that is of interest, nodes. These describe a specific point of space on the earth's surface defined by its latitude and longitude."
   ]
  },
  {
   "cell_type": "markdown",
   "metadata": {
    "collapsed": false
   },
   "source": [
    "A typical node looks like this:\n",
    "\n",
    "* node {'changeset': '21644925', 'uid': '1892873', 'timestamp': '2014-04-12T12:07:47Z', 'lon': '4.3676075', 'version': '1', 'user': 'opani_BAG', 'lat': '51.9405121', 'id': '2785239869'}\n",
    "\n",
    "On first sight, the information worth checking out is its coordinates. Do the coordinates fall within an expected range of value within this area in the Netherlands."
   ]
  },
  {
   "cell_type": "code",
   "execution_count": 4,
   "metadata": {
    "collapsed": false
   },
   "outputs": [
    {
     "data": {
      "text/plain": [
       "[]"
      ]
     },
     "execution_count": 4,
     "metadata": {},
     "output_type": "execute_result"
    }
   ],
   "source": [
    "def checkForBadCoordinates(file):\n",
    "    \"\"\"Loops through the latittude and longitude keys of all nodes in file to check if they are in expected range\"\"\"\n",
    "    badLocations = []\n",
    "    for event, element in ET.iterparse(file, events=(\"start\",\"end\")):\n",
    "        if element.tag == \"node\":\n",
    "            if event == \"start\":\n",
    "                if 'lat' and 'lon' in element.attrib:\n",
    "                    lat = float(element.attrib['lat'])\n",
    "                    lon = float(element.attrib['lon'])\n",
    "                \n",
    "                    # http://www.mapsofworld.com/lat_long/netherlands-lat-long.html\n",
    "                    if not (lat > 51 and lat < 52,5) and (lon > 4 and lon < 5):\n",
    "                        print \"{0}, {1}\".format(lat, lon)\n",
    "                        badLocations.append(value)\n",
    "            element.clear()\n",
    "    return badLocations\n",
    "\n",
    "checkForBadCoordinates(chosenFile)"
   ]
  },
  {
   "cell_type": "markdown",
   "metadata": {},
   "source": [
    "As can be seen, no values exists outside of the defined expected area of coordinates.\n",
    "Now let's have a quick look at the number of unique users, with the total amount of entries counted for each."
   ]
  },
  {
   "cell_type": "code",
   "execution_count": 5,
   "metadata": {
    "collapsed": false
   },
   "outputs": [],
   "source": [
    "def uniqueUsers(filename):\n",
    "    \"\"\"Lists all unique users of file and counts their contributions\"\"\"\n",
    "    users = defaultdict(int)\n",
    "    for event, element in ET.iterparse(filename, events=(\"start\",\"end\")):\n",
    "        if event == \"end\":\n",
    "            if 'uid' in element.attrib:\n",
    "                value = element.attrib['uid']\n",
    "                users[value] += 1\n",
    "            element.clear()\n",
    "    return [(k, users[k]) for k in sorted(users, key=users.get, reverse=True)]"
   ]
  },
  {
   "cell_type": "code",
   "execution_count": 6,
   "metadata": {
    "collapsed": false
   },
   "outputs": [
    {
     "data": {
      "text/plain": [
       "[('1892873', 740109),\n",
       " ('1204291', 313019),\n",
       " ('195219', 168920),\n",
       " ('36080', 48718),\n",
       " ('1989776', 38150),\n",
       " ('327477', 35587),\n",
       " ('579978', 35046),\n",
       " ('191979', 34932),\n",
       " ('2005379', 33827),\n",
       " ('568540', 18801)]"
      ]
     },
     "execution_count": 6,
     "metadata": {},
     "output_type": "execute_result"
    }
   ],
   "source": [
    "uniqueUsers(chosenFile)[:10]"
   ]
  },
  {
   "cell_type": "markdown",
   "metadata": {
    "collapsed": true
   },
   "source": [
    "As can be seen, there is a relativly large number of users which inserted only a few values into the dataset, while there is a small number of users responsible for a great amount of data entered. Again, nothing seems out of the ordinary here."
   ]
  },
  {
   "cell_type": "markdown",
   "metadata": {},
   "source": [
    "## The way element\n",
    "\n",
    "Now, let's have a look at the \"way\" elements. A typical element looks like this: \n",
    "\n",
    "* way {'changeset': '27415982', 'uid': '2394881', 'timestamp': '2014-12-12T08:00:03Z', 'version': '3', 'user': \"It's so funny_mechanical\", 'id': '138652513'}\n",
    "\n",
    "In my opinion, there is nothing really of interest here for auditing. Even if there were errors here in the timestamp or user ID values, it would not mean much for the remainder of this report."
   ]
  },
  {
   "cell_type": "markdown",
   "metadata": {},
   "source": [
    "## The nd element\n",
    "\n",
    "\"nd\" elements are nested within \"way\" elements, to identify which \"node\" elements are a part of a \"way, e.g. a linear path. \n",
    "\n",
    "* nd {'ref': '1520353919'}\n",
    "\n",
    "We could theoratically check if the node this \"ref\" value is referring to exists in the dataset, but this would be demanding and there is no guarantee that all nodes of the \"way\" exist in this dataset. I will therefore move on to the \"tag\" element, which covers the most information."
   ]
  },
  {
   "cell_type": "markdown",
   "metadata": {},
   "source": [
    "## The tag element\n",
    "\n",
    "This element provides the most information of all elements. It is nested within \"node\", \"way\", and \"relation\" elements and describe the meaning of an element to which they are attached. The following are examples of some tags nested within a \"node\" element:\n",
    "\n",
    "tag {'k': 'source', 'v': 'BAG 04-10-2013'}\n",
    "\n",
    "tag {'k': 'addr:city', 'v': 'De Lier'}\n",
    "\n",
    "tag {'k': 'addr:street', 'v': 'Hohorst'}\n",
    "\n",
    "tag {'k': 'addr:country', 'v': 'NL'}\n",
    "\n",
    "tag {'k': 'addr:postcode', 'v': '2678CC'}\n",
    "\n",
    "tag {'k': 'addr:province', 'v': 'Zuid-Holland'}\n",
    "\n",
    "tag {'k': 'addr:housenumber', 'v': '37'}\n",
    "\n",
    "tag {'k': 'bag:gebruiksfunctie', 'v': 'woonfunctie'}"
   ]
  },
  {
   "cell_type": "markdown",
   "metadata": {},
   "source": [
    "It would be interesting to see which tag keys are the most common."
   ]
  },
  {
   "cell_type": "code",
   "execution_count": 7,
   "metadata": {
    "collapsed": false
   },
   "outputs": [
    {
     "data": {
      "text/plain": [
       "[('source', 385338),\n",
       " ('source:date', 362864),\n",
       " ('addr:city', 202883),\n",
       " ('addr:street', 202600),\n",
       " ('addr:postcode', 201113),\n",
       " ('addr:housenumber', 201096),\n",
       " ('building', 165372),\n",
       " ('ref:bag', 164128),\n",
       " ('start_date', 163308),\n",
       " ('highway', 31248)]"
      ]
     },
     "execution_count": 7,
     "metadata": {},
     "output_type": "execute_result"
    }
   ],
   "source": [
    "def uniqueTagKeys(osmfile):\n",
    "    \"\"\"Lists all unique tag keys and their frequency\"\"\"\n",
    "    osm_file = open(osmfile, \"r\")\n",
    "    keyValues = defaultdict(int)\n",
    "    for event, elem in ET.iterparse(osm_file, events=(\"start\",)):\n",
    "\n",
    "        if elem.tag == \"node\" or elem.tag == \"way\":\n",
    "            for tag in elem.iter(\"tag\"):\n",
    "                keyValues[tag.attrib[\"k\"]] += 1\n",
    "                \n",
    "    osm_file.close()\n",
    "    return [(k, keyValues[k]) for k in sorted(keyValues, key=keyValues.get, reverse=True)]\n",
    "\n",
    "\n",
    "uniqueTagKeys(chosenFile)[:10]"
   ]
  },
  {
   "cell_type": "markdown",
   "metadata": {},
   "source": [
    "I will now have a closer look to some of the most common keys, starting with source. If problems are found, a function will be created to fix the errors.\n",
    "\n",
    "### Auditing source\n",
    "\n",
    "I will now have a look at the data sources. I will create a function which I can reuse for further auditing which lists a count of all unique values."
   ]
  },
  {
   "cell_type": "code",
   "execution_count": 8,
   "metadata": {
    "collapsed": false
   },
   "outputs": [],
   "source": [
    "def uniqueTagValues(osmfile, key):\n",
    "    \"\"\"Lists all unique tag values for a specific key and their frequency\"\"\"\n",
    "    osm_file = open(osmfile, \"r\")\n",
    "    tagValues = defaultdict(int)\n",
    "    for event, elem in ET.iterparse(osm_file, events=(\"start\",)):\n",
    "\n",
    "        if elem.tag == \"node\" or elem.tag == \"way\":\n",
    "            for tag in elem.iter(\"tag\"):\n",
    "                if tag.attrib[\"k\"] == key:\n",
    "                    tagValues[tag.attrib[\"v\"]] += 1\n",
    "    osm_file.close()\n",
    "    return [(k, tagValues[k]) for k in sorted(tagValues, key=tagValues.get, reverse=True)]"
   ]
  },
  {
   "cell_type": "code",
   "execution_count": 9,
   "metadata": {
    "collapsed": false
   },
   "outputs": [
    {
     "data": {
      "text/plain": [
       "[('BAG', 365937),\n",
       " ('3dShapes', 12991),\n",
       " ('survey', 1978),\n",
       " ('Bing', 1695),\n",
       " ('local_knowledge', 837),\n",
       " ('BAG 04-10-2013', 371),\n",
       " ('Veolia Transport', 319),\n",
       " ('AND', 134),\n",
       " ('3dShapes;BAG', 130),\n",
       " ('Wiki.ovinnederland.nl', 74)]"
      ]
     },
     "execution_count": 9,
     "metadata": {},
     "output_type": "execute_result"
    }
   ],
   "source": [
    "uniqueSources = uniqueTagValues(chosenFile, \"source\")\n",
    "\n",
    "uniqueSources[:10]"
   ]
  },
  {
   "cell_type": "markdown",
   "metadata": {},
   "source": [
    "As can be seen, some source values include the actual source, followed by a date. I will try and fix this by removing this date from the source, and adding it to the \"source:date\" key instead, including transforming to the proper format. If this key already exists I will not change anything, while I will create this value if this is not the case."
   ]
  },
  {
   "cell_type": "code",
   "execution_count": 10,
   "metadata": {
    "collapsed": false
   },
   "outputs": [
    {
     "name": "stdout",
     "output_type": "stream",
     "text": [
      "('BAG ', '2013-10-04')\n",
      "('Bing/WorldView-2,DigitalGlobe,Nextview,04/18/2011', '2011-18-04')\n"
     ]
    }
   ],
   "source": [
    "from datetime import datetime\n",
    "import re\n",
    "\n",
    "def checkForDateAndReturnValues(sourceValue):\n",
    "    \"\"\"Looks if date is found in source, and returns fixed source and extracted date\"\"\"\n",
    "    result = re.search('(\\d{2})[/.-](\\d{2})[/.-](\\d{4})$', sourceValue)\n",
    "    if result:\n",
    "        # Return the value matched to add it to source:date\n",
    "        date = result.groups(0)\n",
    "        \n",
    "        oldString = \"{2}-{1}-{0}\".format(date[2],date[1],date[0])\n",
    "        formattedString = \"{2}-{1}-{0}\".format(date[0],date[1],date[2])\n",
    "        \n",
    "        # Remove from source\n",
    "        fixedLocation = sourceValue.replace(oldString, \"\")\n",
    "        \n",
    "        return (fixedLocation, formattedString)\n",
    "    else:\n",
    "        return None\n",
    "\n",
    "# Do a quick test\n",
    "for key,value in uniqueSources:\n",
    "    values = checkForDateAndReturnValues(key)\n",
    "    if values: \n",
    "        print values\n",
    "        "
   ]
  },
  {
   "cell_type": "markdown",
   "metadata": {},
   "source": [
    "This function will be used while transforming the data to csv later on."
   ]
  },
  {
   "cell_type": "markdown",
   "metadata": {},
   "source": [
    "### Auditing source date\n",
    "\n",
    "I will now look at the source dates. I would expect to see all dates follow the following format YYYY-MM-DD, which I will use a regular expression for to test. In addition I will check if the field only includes 10 characters."
   ]
  },
  {
   "cell_type": "code",
   "execution_count": 11,
   "metadata": {
    "collapsed": false
   },
   "outputs": [
    {
     "name": "stdout",
     "output_type": "stream",
     "text": [
      "2013-11-26 + 2014-02-19\n",
      "2013-09-01;2013-11-26\n",
      "2013-11-26 + local knowledge\n",
      "2013-11-26 + local knowledge\n",
      "2013-11-26;survey\n",
      "2013-11-26;survey\n",
      "2013-11-26,2014-10-29\n"
     ]
    }
   ],
   "source": [
    "uniqueDates = uniqueTagValues(chosenFile, \"source:date\")\n",
    "\n",
    "for key,value in uniqueDates:\n",
    "    if not re.search('(\\d{4})[/.-](\\d{2})[/.-](\\d{2})$', key):\n",
    "          print key\n",
    "    if len(key) != 10:\n",
    "        print key"
   ]
  },
  {
   "cell_type": "markdown",
   "metadata": {},
   "source": [
    "There are only a few problems with the values (with bigger sample sizes!), with either multiple dates added or the source added to the value (actually the opposite issue of last section!). In case there are multiple dates, I will remove the oldest value, since I feel listing the date of the last update makes the most sense. If there is other data I will remove it. I could have added the string to the source key like in the previous section, but it will be hard to check if the remainder actually is a source or something else. "
   ]
  },
  {
   "cell_type": "code",
   "execution_count": 12,
   "metadata": {
    "collapsed": false
   },
   "outputs": [],
   "source": [
    "def cleanSourceDateElement(sourceValue):\n",
    "    \"\"\"Looks if source date includes multiple date and picks most recent. Removes all other text.\"\"\"\n",
    "    twoDates = re.search('((\\d{4}[/.-]\\d{2}[/.-]\\d{2})[,;](\\d{4}[/.-]\\d{2}[/.-]\\d{2}))$', sourceValue)\n",
    "    oneDate = re.search('(\\d{4}[/.-]\\d{2}[/.-]\\d{2})$', sourceValue)\n",
    "    \n",
    "    if twoDates:\n",
    "        # Return the value matched to add it to source:date  \n",
    "        date = twoDates.groups(0)\n",
    "        dt1 = datetime.strptime(date[1],'%Y-%m-%d')\n",
    "        dt2 = datetime.strptime(date[2],'%Y-%m-%d')\n",
    "        \n",
    "        if dt1 > dt2:\n",
    "            return date[1]\n",
    "        else: \n",
    "            return date[2]\n",
    "    elif oneDate:\n",
    "        # Check for only one date\n",
    "        date = oneDate.groups(0)\n",
    "        return date[0]\n",
    "    else:\n",
    "        return None"
   ]
  },
  {
   "cell_type": "markdown",
   "metadata": {},
   "source": [
    "### Auditing country code\n",
    "\n",
    "Although I don't expect any issues here let's quickly look the \"addr:country\" key values."
   ]
  },
  {
   "cell_type": "code",
   "execution_count": 13,
   "metadata": {
    "collapsed": false
   },
   "outputs": [
    {
     "data": {
      "text/plain": [
       "[('NL', 2584)]"
      ]
     },
     "execution_count": 13,
     "metadata": {},
     "output_type": "execute_result"
    }
   ],
   "source": [
    "uniqueTagValues(chosenFile, \"addr:country\")"
   ]
  },
  {
   "cell_type": "markdown",
   "metadata": {},
   "source": [
    "As expected, no problems here.\n",
    "\n",
    "### Auditing city names"
   ]
  },
  {
   "cell_type": "markdown",
   "metadata": {},
   "source": [
    "Continuing, I will make sure that all city names actually exist."
   ]
  },
  {
   "cell_type": "code",
   "execution_count": 14,
   "metadata": {
    "collapsed": false
   },
   "outputs": [
    {
     "data": {
      "text/plain": [
       "[('Delft', 55206),\n",
       " ('Vlaardingen', 38917),\n",
       " ('Schiedam', 36215),\n",
       " ('Maassluis', 16983),\n",
       " ('Naaldwijk', 7521),\n",
       " ('Wateringen', 6442),\n",
       " ('De Lier', 5850),\n",
       " ('Rozenburg', 5048),\n",
       " (\"'s-Gravenhage\", 4098),\n",
       " ('Rijswijk', 3786),\n",
       " ('Den Hoorn', 3591),\n",
       " ('Delfgauw', 3470),\n",
       " ('Honselersdijk', 3296),\n",
       " ('Maasland', 3130),\n",
       " ('Poeldijk', 2850),\n",
       " ('Maasdijk', 2078),\n",
       " ('Schipluiden', 2051),\n",
       " ('Kwintsheul', 1668),\n",
       " ('Rotterdam', 571),\n",
       " (\"'s-Gravenzande\", 69),\n",
       " ('Pijnacker', 18),\n",
       " ('Brielle', 11),\n",
       " ('Europoort Rotterdam', 8),\n",
       " ('Hoek van Holland', 6)]"
      ]
     },
     "execution_count": 14,
     "metadata": {},
     "output_type": "execute_result"
    }
   ],
   "source": [
    "# Check all unique city names\n",
    "uniqueCities = uniqueTagValues(chosenFile, 'addr:city')\n",
    "\n",
    "uniqueCities"
   ]
  },
  {
   "cell_type": "markdown",
   "metadata": {},
   "source": [
    "To check validity, I will check each city name with a JSON file containing worldwide city names by county, found here: \n",
    "\n",
    "https://github.com/David-Haim/CountriesToCitiesJSON/blob/master/countriesToCities.json"
   ]
  },
  {
   "cell_type": "code",
   "execution_count": 15,
   "metadata": {
    "collapsed": false
   },
   "outputs": [],
   "source": [
    "import json\n",
    "\n",
    "def checkCityExistence(name):\n",
    "    \"\"\"Takes a city names and checks in JSON file if value is known Dutch city names\"\"\"\n",
    "    json_file='countriesToCities.json'\n",
    "\n",
    "    json_data = open(json_file)\n",
    "    data = json.load(json_data)\n",
    "    json_data.close()\n",
    "\n",
    "    dutchCities = data['Netherlands']\n",
    "    \n",
    "    if name in dutchCities:\n",
    "        return True\n",
    "    else:\n",
    "        return False"
   ]
  },
  {
   "cell_type": "code",
   "execution_count": 16,
   "metadata": {
    "collapsed": false
   },
   "outputs": [
    {
     "name": "stdout",
     "output_type": "stream",
     "text": [
      "Error found with city 's-Gravenhage\n",
      "Error found with city Europoort Rotterdam\n"
     ]
    }
   ],
   "source": [
    "for city,count in uniqueCities:\n",
    "    if not checkCityExistence(city):\n",
    "        print \"Error found with city {0}\".format(city)"
   ]
  },
  {
   "cell_type": "markdown",
   "metadata": {},
   "source": [
    "'s-Gravenhage is actually a synonym for the name \"Den Haag\" so there is nothing wrong with the value. Europoort Rotterdam should technically perhaps be called Europoort, but this could be argued otherwise. These issues are not required to be changed in my opinion."
   ]
  },
  {
   "cell_type": "markdown",
   "metadata": {},
   "source": [
    "### Auditing postal codes\n",
    "\n",
    "Postal codes are another tag that can be easily checked programatically. For this I will use a fairly forward regular expression. Since dutch postal codes have the format: 0000AA (where 0 is any number, and A is any letter), this can be checked for by the following:"
   ]
  },
  {
   "cell_type": "code",
   "execution_count": 17,
   "metadata": {
    "collapsed": false
   },
   "outputs": [
    {
     "data": {
      "text/plain": [
       "[('2624WW', 301),\n",
       " ('3122VM', 279),\n",
       " ('3122XA', 278),\n",
       " ('3122VN', 277),\n",
       " ('3136EA', 250)]"
      ]
     },
     "execution_count": 17,
     "metadata": {},
     "output_type": "execute_result"
    }
   ],
   "source": [
    "uniqueZip = uniqueTagValues(chosenFile, \"addr:postcode\")\n",
    "uniqueZip[:5]"
   ]
  },
  {
   "cell_type": "code",
   "execution_count": 18,
   "metadata": {
    "collapsed": false
   },
   "outputs": [
    {
     "name": "stdout",
     "output_type": "stream",
     "text": [
      "205\n"
     ]
    }
   ],
   "source": [
    "reZip = re.compile(r'(\\d{4})([A-Z]{2})')\n",
    "\n",
    "count = 0\n",
    "\n",
    "for key,value in uniqueZip:\n",
    "    if reZip.search(key) == None:\n",
    "        count += 1\n",
    "        #print \"Error with zip code {0}\".format(key)\n",
    "        \n",
    "print count"
   ]
  },
  {
   "cell_type": "markdown",
   "metadata": {},
   "source": [
    "As can be been 205 values did not follow the expected format. The wrong values are caused by a space between the group of numbers and the two letters. This is a quite common way of writing zip codes in the Netherlands, but it should be changed in the dataset for consistency sake. Since this is the only type of error, I can easily just remove all whitespace by using the python function .replace()"
   ]
  },
  {
   "cell_type": "code",
   "execution_count": 19,
   "metadata": {
    "collapsed": false
   },
   "outputs": [
    {
     "name": "stdout",
     "output_type": "stream",
     "text": [
      "2678 CL\n",
      "2678CL\n"
     ]
    }
   ],
   "source": [
    "def removeWhiteSpace(element):\n",
    "    \"\"\"Removes whitespace between numbers and letters of zip code\"\"\"\n",
    "    return element.replace(\" \", \"\")\n",
    "\n",
    "#To test if it works\n",
    "for key,value in uniqueZip:\n",
    "    if reZip.search(key) == None:\n",
    "        print key\n",
    "        key = removeWhiteSpace(key)\n",
    "        print key\n",
    "        break"
   ]
  },
  {
   "cell_type": "markdown",
   "metadata": {},
   "source": [
    "### Auditing street names\n",
    "\n",
    "I will now have a look at the most common streetnames."
   ]
  },
  {
   "cell_type": "code",
   "execution_count": 20,
   "metadata": {
    "collapsed": false
   },
   "outputs": [],
   "source": [
    "streetValues = uniqueTagValues(chosenFile, \"addr:street\")"
   ]
  },
  {
   "cell_type": "markdown",
   "metadata": {},
   "source": [
    "I created a list of common Dutch streetname endings. The problem is, that unlike U.S. streetnames, the words are connected so it will be diifcult to use a regular expression to seperate the street type from the rest of the name. This will thus required more manual labor. Let's have a look to see which values do not include any of the common Dutch streetname words."
   ]
  },
  {
   "cell_type": "code",
   "execution_count": 21,
   "metadata": {
    "collapsed": false
   },
   "outputs": [
    {
     "name": "stdout",
     "output_type": "stream",
     "text": [
      "Total street names values: 3911\n",
      "Other names: 1050\n"
     ]
    }
   ],
   "source": [
    "dutchStreetNames = [\"straat\", \"dijk\", \"plein\", \"kade\", \"gracht\", \"laan\", \"sluis\", \"polder\", \"hof\", \"weg\", \\\n",
    "                    \"gaag\", \"singel\", \"dreef\", \"pad\", \"gaag\", \"vliet\", \"hoeve\"]\n",
    "\n",
    "count = 0\n",
    "for key,value in streetValues:\n",
    "    if not any(street in key for street in dutchStreetNames):\n",
    "        count += 1\n",
    "\n",
    "print \"Total street names values: {0}\".format(len(streetValues))\n",
    "print \"Other names: {0}\".format(count)"
   ]
  },
  {
   "cell_type": "markdown",
   "metadata": {
    "collapsed": true
   },
   "source": [
    "As can be seen, even with excluding some of the most common Dutch streetname endings, there are still many streetname which do not include any of these. A quick audit shows that there isn't anything clearly wrong with the names so I will leave it at that."
   ]
  },
  {
   "cell_type": "markdown",
   "metadata": {},
   "source": [
    "### Auditing phone numbers\n",
    "\n",
    "As a final tag key to audit, I have decided to take a look at the \"phone\" key. This key is, as the name suggests, used to add a phone number to a specific node (or way) elements. "
   ]
  },
  {
   "cell_type": "code",
   "execution_count": 22,
   "metadata": {
    "collapsed": false
   },
   "outputs": [
    {
     "data": {
      "text/plain": [
       "[('+3152122990', 2),\n",
       " ('0152855111', 2),\n",
       " ('+31-10-4344700', 2),\n",
       " ('+31152628160', 2),\n",
       " ('+31152611454', 2),\n",
       " ('+31 15 2136792', 2),\n",
       " ('+31174624765', 1),\n",
       " ('0152510720', 1),\n",
       " ('+31 10 4342162', 1),\n",
       " ('+31152140777', 1)]"
      ]
     },
     "execution_count": 22,
     "metadata": {},
     "output_type": "execute_result"
    }
   ],
   "source": [
    "phoneNumbers = uniqueTagValues(chosenFile, \"phone\")\n",
    "phoneNumbers[:10]"
   ]
  },
  {
   "cell_type": "markdown",
   "metadata": {},
   "source": [
    "This clearly shows that there are many different ways of formatting telephone numbers. The main issues is that some numbers add the country code (+31), which makes it a 11 character number, while others omit this value to create a number of 10 characters. This is because adding the country code removes a the first zero in the regional part of the number (often 015 or 010 in this region). The country code +31 is also sometimes written as 0031. To make matters worse some numbers include spaces, while other add brackets, or a '-'.\n",
    "\n",
    "I will need to check if a number is in the correct format, and if it is I should correct it so all numbers are in a similar format."
   ]
  },
  {
   "cell_type": "code",
   "execution_count": 23,
   "metadata": {
    "collapsed": false
   },
   "outputs": [
    {
     "name": "stdout",
     "output_type": "stream",
     "text": [
      "+3152122990\n",
      "+31-10-4344700\n",
      "15-2566319\n",
      "31-10-4348382\n",
      "+3148578870\n",
      "31-10-4356759\n",
      "#31152120822\n",
      "+31-10-2327100\n",
      "31-174-294208\n",
      "+31-15-2134516\n",
      "31-174-292191\n",
      "+31-15-2618263\n",
      "+31-181-214115\n",
      "31-10-4749436\n",
      "31-15-2783082\n",
      "14010\n",
      "+31-15-2782443\n",
      "+314493250\n",
      "+31-15-2782441\n",
      "31-174-626638\n",
      "+31-15-2565801\n",
      "(015)2010205\n"
     ]
    }
   ],
   "source": [
    "dutchPhoneNumber = re.compile(r'(^\\+[0-9]{2}|^\\+[0-9]{2}\\(0\\)|^\\(\\+[0-9]{2}\\)\\(0\\)|^00[0-9]{2}|^0)([0-9]{9}$|[0-9\\-\\s]{10}$)')\n",
    "\n",
    "for number,quantity in phoneNumbers:\n",
    "    strippedNumber = number.replace(\" \", \"\")\n",
    "    if not dutchPhoneNumber.match(strippedNumber):\n",
    "        print strippedNumber"
   ]
  },
  {
   "cell_type": "markdown",
   "metadata": {},
   "source": [
    "As can be seen, this regular expression does fairly well. A great deal of these numbers are actually wrong, which could indicate a human error. I would like to be able to include those numbers which include a second \"-\", so I will update the regular expression."
   ]
  },
  {
   "cell_type": "code",
   "execution_count": 24,
   "metadata": {
    "collapsed": false
   },
   "outputs": [
    {
     "name": "stdout",
     "output_type": "stream",
     "text": [
      "+3152122990\n",
      "15-2566319\n",
      "31-10-4348382\n",
      "+3148578870\n",
      "31-10-4356759\n",
      "#31152120822\n",
      "31-174-294208\n",
      "31-174-292191\n",
      "31-10-4749436\n",
      "31-15-2783082\n",
      "14010\n",
      "+314493250\n",
      "31-174-626638\n",
      "(015)2010205\n"
     ]
    }
   ],
   "source": [
    "dutchPhoneNumber = re.compile(r'(^\\+[0-9]{2}|^\\+[0-9]{2}\\(0\\)|^\\(\\+[0-9]{2}\\)\\(0\\)|^00[0-9]{2}|^0)([0-9]{9}$|[0-9\\-\\s]{10}|[0-9]{2}-[0-9]{7}|[0-9]{3}-[0-9]{6}$)')\n",
    "\n",
    "for number,quantity in phoneNumbers:\n",
    "    strippedNumber = number.replace(\" \", \"\")\n",
    "    if not dutchPhoneNumber.match(strippedNumber):\n",
    "        print strippedNumber"
   ]
  },
  {
   "cell_type": "markdown",
   "metadata": {},
   "source": [
    "Now let's create a function that audits and cleans the number to a common format."
   ]
  },
  {
   "cell_type": "code",
   "execution_count": 25,
   "metadata": {
    "collapsed": false
   },
   "outputs": [
    {
     "name": "stdout",
     "output_type": "stream",
     "text": [
      "+31105911833\n",
      "None\n",
      "+31174620444\n"
     ]
    }
   ],
   "source": [
    "def cleanPhoneNumber(number):\n",
    "    \"\"\"Audits phone number and edits to common format. Returns None if number is not valid.\"\"\"\n",
    "    dutchPhoneNumber = re.compile(r'(^\\+[0-9]{2}|^\\+[0-9]{2}\\(0\\)|^\\(\\+[0-9]{2}\\)\\(0\\)|^00[0-9]{2}|^0)([0-9]{9}$|[0-9\\-\\s]{10}|[0-9]{2}-[0-9]{7}|[0-9]{3}-[0-9]{6}$)')\n",
    "\n",
    "    strippedNumber = number.replace(\" \", \"\")\n",
    "    match = dutchPhoneNumber.match(strippedNumber)\n",
    "\n",
    "    if match:\n",
    "        groups = match.groups(0)\n",
    "        # ('+31', '158200269'),('0', '153646121'),('0', '15-2562267')\n",
    "        # First match should be changed to +31 if 0, and second match should have '-' removed\n",
    "        firstPart = groups[0]\n",
    "        if firstPart == '0':\n",
    "            firstPart = '+31'\n",
    "        secondPart = groups[1].replace(\"-\", \"\")\n",
    "        return firstPart + secondPart\n",
    "    else:\n",
    "        return None\n",
    "            \n",
    "            \n",
    "print cleanPhoneNumber(\"010-5911833\")\n",
    "print cleanPhoneNumber(\"523-432\")\n",
    "print cleanPhoneNumber(\"+31174620444\")"
   ]
  },
  {
   "cell_type": "markdown",
   "metadata": {},
   "source": [
    "### Auditing problems in tag keys\n",
    "\n",
    "Finally, I will have a quick look at the tag keys to see if any of these have problematic characters."
   ]
  },
  {
   "cell_type": "code",
   "execution_count": 26,
   "metadata": {
    "collapsed": false
   },
   "outputs": [
    {
     "data": {
      "text/plain": [
       "{'lower': 877102, 'lower_colon': 1385065, 'other': 131, 'problemchars': 0}"
      ]
     },
     "execution_count": 26,
     "metadata": {},
     "output_type": "execute_result"
    }
   ],
   "source": [
    "lower = re.compile(r'^([a-z]|_)*$')\n",
    "lower_colon = re.compile(r'^([a-z]|_)*:([a-z]|_|:)*$')\n",
    "problemchars = re.compile(r'[=\\+/&<>;\\'\"\\?%#$@\\,\\. \\t\\r\\n]')\n",
    "\n",
    "keys = {\"lower\": 0, \"lower_colon\": 0, \"problemchars\": 0, \"other\": 0}\n",
    "    \n",
    "def countKeyType(element):\n",
    "    \"\"\"\"Tests if there are any erros in the key values of tags\"\"\"\n",
    "    if element.tag == \"tag\":\n",
    "        if element.attrib[\"k\"]:\n",
    "            value = element.attrib[\"k\"]\n",
    "            if problemchars.search(value) != None:\n",
    "                keys[\"problemchars\"] += 1\n",
    "            elif lower.search(value) != None:\n",
    "                keys[\"lower\"] += 1\n",
    "            elif lower_colon.search(value) != None:\n",
    "                keys[\"lower_colon\"] += 1\n",
    "            else:\n",
    "                keys[\"other\"] += 1        \n",
    "    return keys\n",
    "\n",
    "def process_map(filename):\n",
    "\n",
    "    for _, element in ET.iterparse(filename):\n",
    "        keys = countKeyType(element)\n",
    "\n",
    "    return keys\n",
    "\n",
    "process_map(chosenFile)\n"
   ]
  },
  {
   "cell_type": "markdown",
   "metadata": {},
   "source": [
    "This shows that there are no keys with problematic chars, which is the most important since these could cause problems while inserting to SQL. \n",
    "\n",
    "The \"lower\" and \"lower_colon\" results will be used in the next section, where I will convert the XML to multiple csv files. The differently types of keys will be treated differently while problematic keys will be removed.\n",
    "\n",
    "The \"other\" values seem to be caused by the presence of uppercase letters, underscores, and '-'. I do not expect these to cause errors and I am not aware of any rules against these characters, so I will not fix these values.\n",
    "\n",
    "I will create a quick function that can be used while converting the XML to csv."
   ]
  },
  {
   "cell_type": "code",
   "execution_count": 27,
   "metadata": {
    "collapsed": false
   },
   "outputs": [],
   "source": [
    "from enum import Enum\n",
    "\n",
    "class KeyType(Enum):\n",
    "    ProblemChars = 1\n",
    "    Lower = 2\n",
    "    LowerColon = 3\n",
    "    Other = 4\n",
    "\n",
    "def returnKeyType(value):\n",
    "    \"\"\"Returns an enum that shows which type of error a tag key has\"\"\"\n",
    "    if problemchars.search(value) != None:\n",
    "        return KeyType.ProblemChars\n",
    "    elif lower.search(value) != None:\n",
    "        return KeyType.Lower\n",
    "    elif lower_colon.search(value) != None:\n",
    "        return KeyType.LowerColon\n",
    "    else:\n",
    "        return KeyType.Other      "
   ]
  },
  {
   "cell_type": "markdown",
   "metadata": {},
   "source": [
    "## Fixing the data and exporting to CSV"
   ]
  },
  {
   "cell_type": "markdown",
   "metadata": {
    "collapsed": true
   },
   "source": [
    "Now I will convert the XML into csv. I will at the same time fix several issues which I have investigated in the previous chapter. These are: source keys, source date, postal codes, as well as problems in tag keys. For these I will use the earlier created functions:\n",
    "\n",
    "- checkForDateAndReturnValues(sourceValue)\n",
    "- cleanSourceDateElement(sourceValue)\n",
    "- removeWhitespace(element)\n",
    "- cleanPhoneNumber(number)\n",
    "- returnKeyType(key)"
   ]
  },
  {
   "cell_type": "code",
   "execution_count": 28,
   "metadata": {
    "collapsed": false
   },
   "outputs": [],
   "source": [
    "import csv\n",
    "import codecs\n",
    "import re\n",
    "import xml.etree.cElementTree as ET\n",
    "\n",
    "import cerberus\n",
    "\n",
    "import schema\n",
    "\n",
    "OSM_PATH = \"sample.osm\"\n",
    "\n",
    "NODES_PATH = \"nodes.csv\"\n",
    "NODE_TAGS_PATH = \"nodes_tags.csv\"\n",
    "WAYS_PATH = \"ways.csv\"\n",
    "WAY_NODES_PATH = \"ways_nodes.csv\"\n",
    "WAY_TAGS_PATH = \"ways_tags.csv\"\n",
    "\n",
    "LOWER_COLON = re.compile(r'^([a-z]|_)+:([a-z]|_)+')\n",
    "PROBLEMCHARS = re.compile(r'[=\\+/&<>;\\'\"\\?%#$@\\,\\. \\t\\r\\n]')\n",
    "\n",
    "SCHEMA = schema.schema\n",
    "\n",
    "# Make sure the fields order in the csvs matches the column order in the sql table schema\n",
    "NODE_FIELDS = ['id', 'lat', 'lon', 'user', 'uid', 'version', 'changeset', 'timestamp']\n",
    "NODE_TAGS_FIELDS = ['id', 'key', 'value', 'type']\n",
    "WAY_FIELDS = ['id', 'user', 'uid', 'version', 'changeset', 'timestamp']\n",
    "WAY_TAGS_FIELDS = ['id', 'key', 'value', 'type']\n",
    "WAY_NODES_FIELDS = ['id', 'node_id', 'position']\n",
    "\n",
    "\n",
    "def shape_element(element, node_attr_fields=NODE_FIELDS, way_attr_fields=WAY_FIELDS,\n",
    "                  problem_chars=PROBLEMCHARS, default_tag_type='regular'):\n",
    "    \"\"\"Clean and shape node or way XML element to Python dict\"\"\"\n",
    "\n",
    "    node_attribs = {}\n",
    "    way_attribs = {}\n",
    "    way_nodes = []\n",
    "    tags = []  # Handle secondary tags the same way for both node and way elements\n",
    "\n",
    "    if element.tag == \"node\":\n",
    "        for value in node_attr_fields:\n",
    "            if value in element.attrib:\n",
    "                node_attribs[value] = element.attrib[value]\n",
    "        \n",
    "        # Check tags\n",
    "        for child in element.iter('tag'):\n",
    "            keyValue = child.attrib['k']\n",
    "            value = child.attrib['v']\n",
    "\n",
    "            \n",
    "            # If key value is source\n",
    "            if keyValue == \"source\":\n",
    "                values = checkForDateAndReturnValues(child.attrib['v'])\n",
    "                if values:\n",
    "                    value = values[0]\n",
    "                    newDate = values[1]\n",
    "                    \n",
    "                    # If new date, find proper tag and set\n",
    "                    for siblingTag in element.iter('tag'):\n",
    "                        keyValue = siblingTag.attrib['k']\n",
    "                        if keyValue == \"source:date\":\n",
    "                            siblingTag.attrib['v'] = newDate\n",
    "                \n",
    "            # If key value is source date\n",
    "            if keyValue == \"source:date\":\n",
    "                cleanedSource = cleanSourceDateElement(value)\n",
    "                if cleanedSource:\n",
    "                    value = cleanedSource\n",
    "            \n",
    "            # If key value is postal code\n",
    "            if keyValue == \"addr:postcode\":\n",
    "                cleanedPostal = removeWhiteSpace(value)\n",
    "                if cleanedPostal:\n",
    "                    value = cleanedPostal\n",
    "            \n",
    "            if keyValue == \"phone\":\n",
    "                cleanedPhone = cleanPhoneNumber(value)\n",
    "                if cleanedPhone:\n",
    "                    value = cleanedPhone\n",
    "                else:\n",
    "                    continue\n",
    "                \n",
    "            keyType = returnKeyType(keyValue)\n",
    "            \n",
    "            if keyType == KeyType.ProblemChars:\n",
    "                continue\n",
    "            \n",
    "            seperateValues = keyValue.split(':',1)\n",
    "            typeValue = \"\"\n",
    "\n",
    "            if keyType == KeyType.LowerColon:\n",
    "                typeValue = seperateValues[0]\n",
    "                keyValue = seperateValues[1]\n",
    "            else:\n",
    "                typeValue=\"regular\"\n",
    "            tag = {'id': element.attrib['id'], 'key': keyValue, 'value': value, 'type': typeValue}\n",
    "            tags.append(tag)\n",
    "        \n",
    "    elif element.tag == 'way':\n",
    "        for value in way_attr_fields:\n",
    "            if value in element.attrib:\n",
    "                way_attribs[value] = element.attrib[value]\n",
    "        \n",
    "        # Check nd \n",
    "        count = 0\n",
    "        for child in element.iter('nd'):\n",
    "            ref = child.attrib['ref']\n",
    "            tag = {'id': element.attrib['id'], 'node_id': ref, 'position': count}\n",
    "            way_nodes.append(tag)\n",
    "            count += 1\n",
    "        \n",
    "        # Check tags\n",
    "        for child in element.iter('tag'):\n",
    "            keyValue = child.attrib['k']\n",
    "            value = child.attrib['v']\n",
    "            \n",
    "            # If key value is source\n",
    "            if keyValue == \"source\":\n",
    "                values = checkForDateAndReturnValues(child.attrib['v'])\n",
    "                if values:\n",
    "                    value = values[0]\n",
    "                    newDate = values[1]\n",
    "                    \n",
    "                    # If new date, find proper tag and set\n",
    "                    for siblingTag in element.iter('tag'):\n",
    "                        keyValue = siblingTag.attrib['k']\n",
    "                        if keyValue == \"source:date\":\n",
    "                            siblingTag.attrib['v'] = newDate\n",
    "                \n",
    "            # If key value is source date\n",
    "            if keyValue == \"source:date\":\n",
    "                cleanedSource = cleanSourceDateElement(value)\n",
    "                if cleanedSource:\n",
    "                    value = cleanedSource\n",
    "            \n",
    "            # If key value is postal code\n",
    "            if keyValue == \"addr:postcode\":\n",
    "                cleanedPostal = removeWhiteSpace(value)\n",
    "                if cleanedPostal:\n",
    "                    value = cleanedPostal\n",
    "            \n",
    "            if keyValue == \"phone\":\n",
    "                cleanedPhone = cleanPhoneNumber(value)\n",
    "                if cleanedPhone:\n",
    "                    value = cleanedPhone\n",
    "                else:\n",
    "                    continue\n",
    "                \n",
    "            keyType = returnKeyType(keyValue)\n",
    "            \n",
    "            if keyType == KeyType.ProblemChars:\n",
    "                continue\n",
    "            \n",
    "            seperateValues = keyValue.split(':',1)\n",
    "            typeValue = \"\"\n",
    "\n",
    "            if keyType == KeyType.LowerColon:\n",
    "                typeValue = seperateValues[0]\n",
    "                keyValue = seperateValues[1]\n",
    "            else:\n",
    "                typeValue=\"regular\"\n",
    "                \n",
    "            tag = {'id': element.attrib['id'], 'key': keyValue, 'value': child.attrib['v'], 'type': typeValue}\n",
    "            tags.append(tag)\n",
    "\n",
    "    if element.tag == 'node':\n",
    "        return {'node': node_attribs, 'node_tags': tags}\n",
    "    elif element.tag == 'way':\n",
    "        return {'way': way_attribs, 'way_nodes': way_nodes, 'way_tags': tags}\n",
    "\n"
   ]
  },
  {
   "cell_type": "markdown",
   "metadata": {},
   "source": [
    "The following functions are from the SQL For Data Analysis section of the Wrangle OpenstreetMap by Udacity. In short, these help looping through the XML data, converting it to csv, and validate the results. "
   ]
  },
  {
   "cell_type": "code",
   "execution_count": 29,
   "metadata": {
    "collapsed": false
   },
   "outputs": [],
   "source": [
    "# ================================================== #\n",
    "#               Helper Functions                     #\n",
    "# ================================================== #\n",
    "def get_element(osm_file, tags=('node', 'way', 'relation')):\n",
    "    \"\"\"Yield element if it is the right type of tag\"\"\"\n",
    "\n",
    "    context = ET.iterparse(osm_file, events=('start', 'end'))\n",
    "    _, root = next(context)\n",
    "    for event, elem in context:\n",
    "        if event == 'end' and elem.tag in tags:\n",
    "            yield elem\n",
    "            root.clear()\n",
    "\n",
    "\n",
    "def validate_element(element, validator, schema=SCHEMA):\n",
    "    \"\"\"Raise ValidationError if element does not match schema\"\"\"\n",
    "    if validator.validate(element, schema) is not True:\n",
    "        field, errors = next(validator.errors.iteritems())\n",
    "        message_string = \"\\nElement of type '{0}' has the following errors:\\n{1}\"\n",
    "        error_strings = (\n",
    "            \"{0}: {1}\".format(k, v if isinstance(v, str) else \", \".join(v))\n",
    "            for k, v in errors.iteritems()\n",
    "        )\n",
    "        raise cerberus.ValidationError(\n",
    "            message_string.format(field, \"\\n\".join(error_strings))\n",
    "        )\n",
    "\n",
    "\n",
    "class UnicodeDictWriter(csv.DictWriter, object):\n",
    "    \"\"\"Extend csv.DictWriter to handle Unicode input\"\"\"\n",
    "\n",
    "    def writerow(self, row):\n",
    "        super(UnicodeDictWriter, self).writerow({\n",
    "            k: (v.encode('utf-8') if isinstance(v, unicode) else v) for k, v in row.iteritems()\n",
    "        })\n",
    "\n",
    "    def writerows(self, rows):\n",
    "        for row in rows:\n",
    "            self.writerow(row)\n",
    "\n",
    "\n",
    "# ================================================== #\n",
    "#               Main Function                        #\n",
    "# ================================================== #\n",
    "def process_map(file_in, validate):\n",
    "    \"\"\"Iteratively process each XML element and write to csv(s)\"\"\"\n",
    "\n",
    "    with codecs.open(NODES_PATH, 'w') as nodes_file, \\\n",
    "         codecs.open(NODE_TAGS_PATH, 'w') as nodes_tags_file, \\\n",
    "         codecs.open(WAYS_PATH, 'w') as ways_file, \\\n",
    "         codecs.open(WAY_NODES_PATH, 'w') as way_nodes_file, \\\n",
    "         codecs.open(WAY_TAGS_PATH, 'w') as way_tags_file:\n",
    "\n",
    "        nodes_writer = UnicodeDictWriter(nodes_file, NODE_FIELDS)\n",
    "        node_tags_writer = UnicodeDictWriter(nodes_tags_file, NODE_TAGS_FIELDS)\n",
    "        ways_writer = UnicodeDictWriter(ways_file, WAY_FIELDS)\n",
    "        way_nodes_writer = UnicodeDictWriter(way_nodes_file, WAY_NODES_FIELDS)\n",
    "        way_tags_writer = UnicodeDictWriter(way_tags_file, WAY_TAGS_FIELDS)\n",
    "\n",
    "        nodes_writer.writeheader()\n",
    "        node_tags_writer.writeheader()\n",
    "        ways_writer.writeheader()\n",
    "        way_nodes_writer.writeheader()\n",
    "        way_tags_writer.writeheader()\n",
    "\n",
    "        validator = cerberus.Validator()\n",
    "\n",
    "        for element in get_element(file_in, tags=('node', 'way')):\n",
    "            el = shape_element(element)\n",
    "            if el:\n",
    "                if validate is True:\n",
    "                    validate_element(el, validator)\n",
    "\n",
    "                if element.tag == 'node':\n",
    "                    nodes_writer.writerow(el['node'])\n",
    "                    node_tags_writer.writerows(el['node_tags'])\n",
    "                elif element.tag == 'way':\n",
    "                    ways_writer.writerow(el['way'])\n",
    "                    way_nodes_writer.writerows(el['way_nodes'])\n",
    "                    way_tags_writer.writerows(el['way_tags'])\n",
    "\n",
    "\n",
    "if __name__ == '__main__':\n",
    "    # Note: Validation is ~ 10X slower. For the project consider using a small\n",
    "    # sample of the map when validating.\n",
    "    process_map(chosenFile, validate=False)\n"
   ]
  },
  {
   "cell_type": "markdown",
   "metadata": {},
   "source": [
    "Everything seems fine, so now let's insert the csv files into SQL."
   ]
  },
  {
   "cell_type": "markdown",
   "metadata": {},
   "source": [
    "## 5. Inserting in SQL Database\n",
    "\n",
    "Now that the CSV file are created, we will proceed by adding importing them into SQL. While this can be done through Python, it is quicker to use some SQLite scripts in the command prompt."
   ]
  },
  {
   "cell_type": "code",
   "execution_count": 30,
   "metadata": {
    "collapsed": false
   },
   "outputs": [],
   "source": [
    "# Terminal commands used, with the third line run for each of the five csv files\n",
    "\n",
    "# 1. sqlite3 elements\n",
    "# 2. .mode csv\n",
    "# 3. import nodes.csv\n",
    "# 4 .tables"
   ]
  },
  {
   "cell_type": "markdown",
   "metadata": {},
   "source": [
    "## 6. Running queries"
   ]
  },
  {
   "cell_type": "markdown",
   "metadata": {
    "collapsed": true
   },
   "source": [
    "With everything setup I can now proceed to run some queries. This could be done in the terminal, but it is easier to show of right here through Python. Let's see if everything works by creating a simple function that simply fetches a number of rows of a specific table and column. Afterwards I will do a few other queries to look at some interesting data."
   ]
  },
  {
   "cell_type": "code",
   "execution_count": 32,
   "metadata": {
    "collapsed": false
   },
   "outputs": [
    {
     "name": "stdout",
     "output_type": "stream",
     "text": [
      "(u'nimapper',)\n",
      "(u'lyctkel',)\n",
      "(u'lyctkel',)\n",
      "(u'Med',)\n",
      "(u'datalogg',)\n",
      "(u\"It's so funny\",)\n",
      "(u\"It's so funny\",)\n",
      "(u'BikePC',)\n",
      "(u'BikePC',)\n",
      "(u'BikePC',)\n"
     ]
    }
   ],
   "source": [
    "import sqlite3\n",
    "from pprint import pprint\n",
    "\n",
    "# change this to 'sqlite_file =  Chinook_Sqlite.sqlite' if that is the file you have \n",
    "sqlite_file = 'elements'    # name of the sqlite database file\n",
    "\n",
    "def queryDatabaseWithTableAndColumnName(tableName, columnName, limit):\n",
    "    \"\"\"Queries elements database with given table and column name\"\"\"\n",
    "    conn = sqlite3.connect(sqlite_file)\n",
    "    c = conn.cursor()\n",
    "\n",
    "    for row in c.execute('SELECT {cn} FROM {tn} LIMIT {l}'.\\\n",
    "            format(tn=tableName, cn=columnName, l=limit)):\n",
    "        print(row)\n",
    "\n",
    "    conn.close()\n",
    "\n",
    "queryDatabaseWithTableAndColumnName('nodes', \"user\", 10)    "
   ]
  },
  {
   "cell_type": "markdown",
   "metadata": {},
   "source": [
    "Let's look at the number of nodes and ways elements."
   ]
  },
  {
   "cell_type": "code",
   "execution_count": 33,
   "metadata": {
    "collapsed": false
   },
   "outputs": [
    {
     "name": "stdout",
     "output_type": "stream",
     "text": [
      "[(1415637,)]\n"
     ]
    }
   ],
   "source": [
    "conn = sqlite3.connect(sqlite_file)\n",
    "c = conn.cursor()\n",
    "\n",
    "c.execute('SELECT COUNT(*) FROM nodes')\n",
    "\n",
    "result = c.fetchall()\n",
    "print(result)\n",
    "\n",
    "conn.close()\n"
   ]
  },
  {
   "cell_type": "code",
   "execution_count": 34,
   "metadata": {
    "collapsed": false
   },
   "outputs": [
    {
     "name": "stdout",
     "output_type": "stream",
     "text": [
      "[(221651,)]\n"
     ]
    }
   ],
   "source": [
    "conn = sqlite3.connect(sqlite_file)\n",
    "c = conn.cursor()\n",
    "\n",
    "c.execute('SELECT COUNT(*) FROM ways')\n",
    "\n",
    "result = c.fetchall()\n",
    "print(result)\n",
    "\n",
    "conn.close()"
   ]
  },
  {
   "cell_type": "markdown",
   "metadata": {},
   "source": [
    "Both these values are the same as the count I did in the start in Python, showing that all data came over."
   ]
  },
  {
   "cell_type": "markdown",
   "metadata": {},
   "source": [
    "Now let's the top 10 active users"
   ]
  },
  {
   "cell_type": "code",
   "execution_count": 35,
   "metadata": {
    "collapsed": false
   },
   "outputs": [
    {
     "name": "stdout",
     "output_type": "stream",
     "text": [
      "[(u'opani_BAG', 740072),\n",
      " (u\"It's so funny_BAG\", 312921),\n",
      " (u'3dShapes', 168919),\n",
      " (u'nimapper', 48687),\n",
      " (u'Sander H_BAG', 38148),\n",
      " (u'Sander H', 35520),\n",
      " (u'Von Humboldt', 35033),\n",
      " (u\"It's so funny\", 34903),\n",
      " (u'Martin Borsje_BAG', 33825),\n",
      " (u'Marc-sch', 18797)]\n"
     ]
    }
   ],
   "source": [
    "conn = sqlite3.connect(sqlite_file)\n",
    "c = conn.cursor()\n",
    "\n",
    "c.execute('SELECT totalUsers.user, COUNT(*) as num FROM (SELECT user FROM nodes UNION ALL SELECT user FROM ways) as totalUsers GROUP BY totalUsers.user ORDER BY num DESC LIMIT 10;')\n",
    "\n",
    "result = c.fetchall()\n",
    "pprint(result)\n",
    "\n",
    "conn.close()"
   ]
  },
  {
   "cell_type": "markdown",
   "metadata": {},
   "source": [
    "Let's count all tags from the most active user."
   ]
  },
  {
   "cell_type": "code",
   "execution_count": 36,
   "metadata": {
    "collapsed": false
   },
   "outputs": [
    {
     "name": "stdout",
     "output_type": "stream",
     "text": [
      "[(527587,)]\n"
     ]
    }
   ],
   "source": [
    "conn = sqlite3.connect(sqlite_file)\n",
    "c = conn.cursor()\n",
    "\n",
    "c.execute('SELECT count(*) FROM ways,ways_tags WHERE ways.id = ways_tags.id AND ways.user = \"opani_BAG\";')\n",
    "\n",
    "result = c.fetchall()\n",
    "pprint(result)\n",
    "\n",
    "conn.close()"
   ]
  },
  {
   "cell_type": "code",
   "execution_count": 37,
   "metadata": {
    "collapsed": false
   },
   "outputs": [
    {
     "name": "stdout",
     "output_type": "stream",
     "text": [
      "[(736704,)]\n"
     ]
    }
   ],
   "source": [
    "conn = sqlite3.connect(sqlite_file)\n",
    "c = conn.cursor()\n",
    "\n",
    "c.execute('SELECT count(*) FROM nodes,nodes_tags WHERE nodes.id = nodes_tags.id AND nodes.user = \"opani_BAG\";')\n",
    "\n",
    "result = c.fetchall()\n",
    "pprint(result)\n",
    "\n",
    "conn.close()"
   ]
  },
  {
   "cell_type": "markdown",
   "metadata": {},
   "source": [
    "Number of unique city names:"
   ]
  },
  {
   "cell_type": "code",
   "execution_count": 38,
   "metadata": {
    "collapsed": false
   },
   "outputs": [
    {
     "name": "stdout",
     "output_type": "stream",
     "text": [
      "[(u'Delft', 55401),\n",
      " (u'Vlaardingen', 39089),\n",
      " (u'Schiedam', 36359),\n",
      " (u'Maassluis', 17045),\n",
      " (u'Naaldwijk', 7552),\n",
      " (u'Wateringen', 6472),\n",
      " (u'De Lier', 5873),\n",
      " (u'Rozenburg', 5065),\n",
      " (u\"'s-Gravenhage\", 4119),\n",
      " (u'Rijswijk', 3802)]\n"
     ]
    }
   ],
   "source": [
    "conn = sqlite3.connect(sqlite_file)\n",
    "c = conn.cursor()\n",
    "\n",
    "c.execute('SELECT cities.value, COUNT(*) as num FROM (SELECT value FROM nodes_tags WHERE type = \"addr\" AND key = \"city\"UNION ALL SELECT value FROM ways_tags WHERE type = \"addr\" AND key = \"city\") as cities GROUP BY cities.value ORDER BY num DESC LIMIT 10;')\n",
    "\n",
    "result = c.fetchall()\n",
    "pprint(result)\n",
    "\n",
    "conn.close()"
   ]
  },
  {
   "cell_type": "markdown",
   "metadata": {},
   "source": [
    "As a small extra, let's plot this data with pandas and seaborn."
   ]
  },
  {
   "cell_type": "code",
   "execution_count": 39,
   "metadata": {
    "collapsed": false
   },
   "outputs": [
    {
     "name": "stdout",
     "output_type": "stream",
     "text": [
      "           value    num\n",
      "0          Delft  55401\n",
      "1    Vlaardingen  39089\n",
      "2       Schiedam  36359\n",
      "3      Maassluis  17045\n",
      "4      Naaldwijk   7552\n",
      "5     Wateringen   6472\n",
      "6        De Lier   5873\n",
      "7      Rozenburg   5065\n",
      "8  's-Gravenhage   4119\n",
      "9       Rijswijk   3802\n"
     ]
    },
    {
     "data": {
      "text/plain": [
       "<matplotlib.axes._subplots.AxesSubplot at 0x168138190>"
      ]
     },
     "execution_count": 39,
     "metadata": {},
     "output_type": "execute_result"
    },
    {
     "data": {
      "image/png": "[encoded data removed]",
      "text/plain": [
       "<matplotlib.figure.Figure at 0x168107b10>"
      ]
     },
     "metadata": {},
     "output_type": "display_data"
    }
   ],
   "source": [
    "import matplotlib.pyplot as plt\n",
    "import seaborn as sns\n",
    "import pandas as pd\n",
    "import numpy as np\n",
    "%matplotlib inline\n",
    "\n",
    "conn = sqlite3.connect(sqlite_file)\n",
    "df = pd.read_sql_query('SELECT cities.value, COUNT(*) as num FROM (SELECT value FROM nodes_tags WHERE type = \"addr\" AND key = \"city\"UNION ALL SELECT value FROM ways_tags WHERE type = \"addr\" AND key = \"city\") as cities GROUP BY cities.value ORDER BY num DESC LIMIT 10;', conn)\n",
    "conn.close()\n",
    "\n",
    "# verify that result of SQL query is stored in the dataframe\n",
    "print(df)\n",
    "df = df.set_index(df[\"value\"])\n",
    "\n",
    "df.plot(kind=\"bar\")"
   ]
  },
  {
   "cell_type": "markdown",
   "metadata": {},
   "source": [
    "## Discussion"
   ]
  },
  {
   "cell_type": "markdown",
   "metadata": {},
   "source": [
    "OpenstreetMaps hosts an enormous amount of data, which is great for data scientists. But the open source nature of the API also leads to some disadvantages. This can clearly be seen in the amount of different tag key values. Since persons are not forced to follow some strict standard concerning value formats, there seem to be a lot of keys with a low frequency. An extreme example are the source key values as seen earlier. There are so many different values, with difference between formatting, as well as persons adding multiple sources.\n",
    "\n",
    "Another issue I came across was the mix between Dutch and English both in tag keys and tag values. An example is the land use key. Many other keys had the dutch equivalent name \"gebruiksfunctie\". These should definately be merged. While I did not decide to clean this up in this project, it just shows that before being able to properly use this dataset in for data analysis a lot more cleanup needs to be done, with some of these requiring manual labor.\n",
    "\n",
    "There are also still many issues left in the most common tag key \"source\". While I fixed issues related to dates being appended to the date, the values for this key still included many other problems. Similar values were given slightly different names, and often there were multiple sources added after each other. If proper analysis needs to be done about the source of these keys, there is a lot of cleaning up to do.\n",
    "\n",
    "Some of the cleaning methods in this project might not work while analyzing data in other areas in the Netherlands. It could for example be true that zip codes are written in another format which was not taken into account, but the aim in this project was to fix some of the biggest issues in relation to this specific dataset. In addition, there were many issues left unexplorered, for example house numbers."
   ]
  },
  {
   "cell_type": "markdown",
   "metadata": {},
   "source": [
    "## Conclusion"
   ]
  },
  {
   "cell_type": "markdown",
   "metadata": {
    "collapsed": true
   },
   "source": [
    "This project has shown how to convert data from different sources in to different formats, and to finally save this data in a SQL database. It has also shown how common errors can be in usergenerated data and the importance of data wrangling. In general I felt that this dataset did not have as many problems as I perhaps anticipiated, but I hope the process of auditing and cleaning data was clear from this project. "
   ]
  }
 ],
 "metadata": {
  "anaconda-cloud": {},
  "kernelspec": {
   "display_name": "Python [default]",
   "language": "python",
   "name": "python2"
  },
  "language_info": {
   "codemirror_mode": {
    "name": "ipython",
    "version": 2
   },
   "file_extension": ".py",
   "mimetype": "text/x-python",
   "name": "python",
   "nbconvert_exporter": "python",
   "pygments_lexer": "ipython2",
   "version": "2.7.12"
  }
 },
 "nbformat": 4,
 "nbformat_minor": 1
}
